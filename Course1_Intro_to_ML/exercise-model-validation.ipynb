{
 "cells": [
  {
   "cell_type": "markdown",
   "id": "459dafe7",
   "metadata": {
    "papermill": {
     "duration": 0.006686,
     "end_time": "2024-03-31T03:40:14.843408",
     "exception": false,
     "start_time": "2024-03-31T03:40:14.836722",
     "status": "completed"
    },
    "tags": []
   },
   "source": [
    "**This notebook is an exercise in the [Introduction to Machine Learning](https://www.kaggle.com/learn/intro-to-machine-learning) course.  You can reference the tutorial at [this link](https://www.kaggle.com/dansbecker/model-validation).**\n",
    "\n",
    "---\n"
   ]
  },
  {
   "cell_type": "markdown",
   "id": "98c3d3cc",
   "metadata": {
    "papermill": {
     "duration": 0.005914,
     "end_time": "2024-03-31T03:40:14.855891",
     "exception": false,
     "start_time": "2024-03-31T03:40:14.849977",
     "status": "completed"
    },
    "tags": []
   },
   "source": [
    "## Recap\n",
    "You've built a model. In this exercise you will test how good your model is.\n",
    "\n",
    "Run the cell below to set up your coding environment where the previous exercise left off."
   ]
  },
  {
   "cell_type": "code",
   "execution_count": 1,
   "id": "dbbdb4a9",
   "metadata": {
    "execution": {
     "iopub.execute_input": "2024-03-31T03:40:14.871681Z",
     "iopub.status.busy": "2024-03-31T03:40:14.870752Z",
     "iopub.status.idle": "2024-03-31T03:40:18.235882Z",
     "shell.execute_reply": "2024-03-31T03:40:18.234371Z"
    },
    "papermill": {
     "duration": 3.376102,
     "end_time": "2024-03-31T03:40:18.238853",
     "exception": false,
     "start_time": "2024-03-31T03:40:14.862751",
     "status": "completed"
    },
    "tags": []
   },
   "outputs": [
    {
     "name": "stdout",
     "output_type": "stream",
     "text": [
      "First in-sample predictions: [208500. 181500. 223500. 140000. 250000.]\n",
      "Actual target values for those homes: [208500, 181500, 223500, 140000, 250000]\n",
      "Setup Complete\n"
     ]
    }
   ],
   "source": [
    "# Code you have previously used to load data\n",
    "import pandas as pd\n",
    "from sklearn.tree import DecisionTreeRegressor\n",
    "\n",
    "# Path of the file to read\n",
    "iowa_file_path = '../input/home-data-for-ml-course/train.csv'\n",
    "\n",
    "home_data = pd.read_csv(iowa_file_path)\n",
    "y = home_data.SalePrice\n",
    "feature_columns = ['LotArea', 'YearBuilt', '1stFlrSF', '2ndFlrSF', 'FullBath', 'BedroomAbvGr', 'TotRmsAbvGrd']\n",
    "X = home_data[feature_columns]\n",
    "\n",
    "# Specify Model\n",
    "iowa_model = DecisionTreeRegressor()\n",
    "# Fit Model\n",
    "iowa_model.fit(X, y)\n",
    "\n",
    "print(\"First in-sample predictions:\", iowa_model.predict(X.head()))\n",
    "print(\"Actual target values for those homes:\", y.head().tolist())\n",
    "\n",
    "# Set up code checking\n",
    "from learntools.core import binder\n",
    "binder.bind(globals())\n",
    "from learntools.machine_learning.ex4 import *\n",
    "print(\"Setup Complete\")"
   ]
  },
  {
   "cell_type": "markdown",
   "id": "1f2257c8",
   "metadata": {
    "papermill": {
     "duration": 0.006174,
     "end_time": "2024-03-31T03:40:18.252359",
     "exception": false,
     "start_time": "2024-03-31T03:40:18.246185",
     "status": "completed"
    },
    "tags": []
   },
   "source": [
    "# Exercises\n",
    "\n",
    "## Step 1: Split Your Data\n",
    "Use the `train_test_split` function to split up your data.\n",
    "\n",
    "Give it the argument `random_state=1` so the `check` functions know what to expect when verifying your code.\n",
    "\n",
    "Recall, your features are loaded in the DataFrame **X** and your target is loaded in **y**.\n"
   ]
  },
  {
   "cell_type": "code",
   "execution_count": 2,
   "id": "e0271f51",
   "metadata": {
    "execution": {
     "iopub.execute_input": "2024-03-31T03:40:18.268000Z",
     "iopub.status.busy": "2024-03-31T03:40:18.267474Z",
     "iopub.status.idle": "2024-03-31T03:40:18.290696Z",
     "shell.execute_reply": "2024-03-31T03:40:18.289514Z"
    },
    "papermill": {
     "duration": 0.034563,
     "end_time": "2024-03-31T03:40:18.293655",
     "exception": false,
     "start_time": "2024-03-31T03:40:18.259092",
     "status": "completed"
    },
    "tags": []
   },
   "outputs": [
    {
     "data": {
      "application/javascript": [
       "parent.postMessage({\"jupyterEvent\": \"custom.exercise_interaction\", \"data\": {\"outcomeType\": 1, \"valueTowardsCompletion\": 0.25, \"interactionType\": 1, \"questionType\": 2, \"questionId\": \"1_SplitData\", \"learnToolsVersion\": \"0.3.4\", \"failureMessage\": \"\", \"exceptionClass\": \"\", \"trace\": \"\"}}, \"*\")"
      ],
      "text/plain": [
       "<IPython.core.display.Javascript object>"
      ]
     },
     "metadata": {},
     "output_type": "display_data"
    },
    {
     "data": {
      "text/markdown": [
       "<span style=\"color:#33cc33\">Correct</span>"
      ],
      "text/plain": [
       "Correct"
      ]
     },
     "metadata": {},
     "output_type": "display_data"
    }
   ],
   "source": [
    "# Import the train_test_split function and uncomment\n",
    "# from _ import _\n",
    "from sklearn.model_selection import train_test_split\n",
    "\n",
    "# fill in and uncomment\n",
    "train_X, val_X, train_y, val_y = train_test_split(X, y, random_state = 1)\n",
    "\n",
    "# Check your answer\n",
    "step_1.check()"
   ]
  },
  {
   "cell_type": "code",
   "execution_count": 3,
   "id": "5b934203",
   "metadata": {
    "execution": {
     "iopub.execute_input": "2024-03-31T03:40:18.309875Z",
     "iopub.status.busy": "2024-03-31T03:40:18.309131Z",
     "iopub.status.idle": "2024-03-31T03:40:18.313507Z",
     "shell.execute_reply": "2024-03-31T03:40:18.312582Z"
    },
    "papermill": {
     "duration": 0.015308,
     "end_time": "2024-03-31T03:40:18.315984",
     "exception": false,
     "start_time": "2024-03-31T03:40:18.300676",
     "status": "completed"
    },
    "tags": []
   },
   "outputs": [],
   "source": [
    "# The lines below will show you a hint or the solution.\n",
    "# step_1.hint() \n",
    "# step_1.solution()\n"
   ]
  },
  {
   "cell_type": "markdown",
   "id": "142de808",
   "metadata": {
    "papermill": {
     "duration": 0.00644,
     "end_time": "2024-03-31T03:40:18.329397",
     "exception": false,
     "start_time": "2024-03-31T03:40:18.322957",
     "status": "completed"
    },
    "tags": []
   },
   "source": [
    "## Step 2: Specify and Fit the Model\n",
    "\n",
    "Create a `DecisionTreeRegressor` model and fit it to the relevant data.\n",
    "Set `random_state` to 1 again when creating the model."
   ]
  },
  {
   "cell_type": "code",
   "execution_count": 4,
   "id": "7d11a916",
   "metadata": {
    "execution": {
     "iopub.execute_input": "2024-03-31T03:40:18.344977Z",
     "iopub.status.busy": "2024-03-31T03:40:18.344196Z",
     "iopub.status.idle": "2024-03-31T03:40:18.377286Z",
     "shell.execute_reply": "2024-03-31T03:40:18.376113Z"
    },
    "papermill": {
     "duration": 0.04382,
     "end_time": "2024-03-31T03:40:18.379930",
     "exception": false,
     "start_time": "2024-03-31T03:40:18.336110",
     "status": "completed"
    },
    "tags": []
   },
   "outputs": [
    {
     "name": "stdout",
     "output_type": "stream",
     "text": [
      "[186500. 184000. 130000.  92000. 164500. 220000. 335000. 144152. 215000.\n",
      " 262000.]\n",
      "[186500. 184000. 130000.  92000. 164500. 220000. 335000. 144152. 215000.\n",
      " 262000.]\n"
     ]
    },
    {
     "data": {
      "application/javascript": [
       "parent.postMessage({\"jupyterEvent\": \"custom.exercise_interaction\", \"data\": {\"outcomeType\": 1, \"valueTowardsCompletion\": 0.25, \"interactionType\": 1, \"questionType\": 2, \"questionId\": \"2_FitModelWithTrain\", \"learnToolsVersion\": \"0.3.4\", \"failureMessage\": \"\", \"exceptionClass\": \"\", \"trace\": \"\"}}, \"*\")"
      ],
      "text/plain": [
       "<IPython.core.display.Javascript object>"
      ]
     },
     "metadata": {},
     "output_type": "display_data"
    },
    {
     "data": {
      "text/markdown": [
       "<span style=\"color:#33cc33\">Correct</span>"
      ],
      "text/plain": [
       "Correct"
      ]
     },
     "metadata": {},
     "output_type": "display_data"
    }
   ],
   "source": [
    "# You imported DecisionTreeRegressor in your last exercise\n",
    "# and that code has been copied to the setup code above. So, no need to\n",
    "# import it again\n",
    "from sklearn.tree import DecisionTreeRegressor\n",
    "\n",
    "\n",
    "# Specify the model\n",
    "iowa_model = DecisionTreeRegressor(random_state = 1)\n",
    "\n",
    "# Fit iowa_model with the training data.\n",
    "iowa_model.fit(train_X, train_y)\n",
    "\n",
    "# Check your answer\n",
    "step_2.check()"
   ]
  },
  {
   "cell_type": "code",
   "execution_count": 5,
   "id": "0f0d9e51",
   "metadata": {
    "execution": {
     "iopub.execute_input": "2024-03-31T03:40:18.396207Z",
     "iopub.status.busy": "2024-03-31T03:40:18.395814Z",
     "iopub.status.idle": "2024-03-31T03:40:18.400546Z",
     "shell.execute_reply": "2024-03-31T03:40:18.399312Z"
    },
    "papermill": {
     "duration": 0.015846,
     "end_time": "2024-03-31T03:40:18.402993",
     "exception": false,
     "start_time": "2024-03-31T03:40:18.387147",
     "status": "completed"
    },
    "tags": []
   },
   "outputs": [],
   "source": [
    "# step_2.hint()\n",
    "# step_2.solution()"
   ]
  },
  {
   "cell_type": "markdown",
   "id": "72c75dca",
   "metadata": {
    "papermill": {
     "duration": 0.007343,
     "end_time": "2024-03-31T03:40:18.417580",
     "exception": false,
     "start_time": "2024-03-31T03:40:18.410237",
     "status": "completed"
    },
    "tags": []
   },
   "source": [
    "## Step 3: Make Predictions with Validation data\n"
   ]
  },
  {
   "cell_type": "code",
   "execution_count": 6,
   "id": "c89a03e9",
   "metadata": {
    "execution": {
     "iopub.execute_input": "2024-03-31T03:40:18.434759Z",
     "iopub.status.busy": "2024-03-31T03:40:18.433597Z",
     "iopub.status.idle": "2024-03-31T03:40:18.446772Z",
     "shell.execute_reply": "2024-03-31T03:40:18.445546Z"
    },
    "papermill": {
     "duration": 0.024689,
     "end_time": "2024-03-31T03:40:18.449618",
     "exception": false,
     "start_time": "2024-03-31T03:40:18.424929",
     "status": "completed"
    },
    "tags": []
   },
   "outputs": [
    {
     "data": {
      "application/javascript": [
       "parent.postMessage({\"jupyterEvent\": \"custom.exercise_interaction\", \"data\": {\"outcomeType\": 1, \"valueTowardsCompletion\": 0.25, \"interactionType\": 1, \"questionType\": 2, \"questionId\": \"3_ValPreds\", \"learnToolsVersion\": \"0.3.4\", \"failureMessage\": \"\", \"exceptionClass\": \"\", \"trace\": \"\"}}, \"*\")"
      ],
      "text/plain": [
       "<IPython.core.display.Javascript object>"
      ]
     },
     "metadata": {},
     "output_type": "display_data"
    },
    {
     "data": {
      "text/markdown": [
       "<span style=\"color:#33cc33\">Correct</span>"
      ],
      "text/plain": [
       "Correct"
      ]
     },
     "metadata": {},
     "output_type": "display_data"
    }
   ],
   "source": [
    "# Predict with all validation observations\n",
    "val_predictions = iowa_model.predict(val_X)\n",
    "\n",
    "# Check your answer\n",
    "step_3.check()"
   ]
  },
  {
   "cell_type": "code",
   "execution_count": 7,
   "id": "6f8ffe3c",
   "metadata": {
    "execution": {
     "iopub.execute_input": "2024-03-31T03:40:18.469016Z",
     "iopub.status.busy": "2024-03-31T03:40:18.467753Z",
     "iopub.status.idle": "2024-03-31T03:40:18.482869Z",
     "shell.execute_reply": "2024-03-31T03:40:18.481614Z"
    },
    "papermill": {
     "duration": 0.02689,
     "end_time": "2024-03-31T03:40:18.485378",
     "exception": false,
     "start_time": "2024-03-31T03:40:18.458488",
     "status": "completed"
    },
    "tags": []
   },
   "outputs": [
    {
     "data": {
      "application/javascript": [
       "parent.postMessage({\"jupyterEvent\": \"custom.exercise_interaction\", \"data\": {\"interactionType\": 2, \"questionType\": 2, \"questionId\": \"3_ValPreds\", \"learnToolsVersion\": \"0.3.4\", \"valueTowardsCompletion\": 0.0, \"failureMessage\": \"\", \"exceptionClass\": \"\", \"trace\": \"\", \"outcomeType\": 4}}, \"*\")"
      ],
      "text/plain": [
       "<IPython.core.display.Javascript object>"
      ]
     },
     "metadata": {},
     "output_type": "display_data"
    },
    {
     "data": {
      "text/markdown": [
       "<span style=\"color:#3366cc\">Hint:</span> Run predict on the right validation data object."
      ],
      "text/plain": [
       "Hint: Run predict on the right validation data object."
      ]
     },
     "metadata": {},
     "output_type": "display_data"
    },
    {
     "data": {
      "application/javascript": [
       "parent.postMessage({\"jupyterEvent\": \"custom.exercise_interaction\", \"data\": {\"interactionType\": 3, \"questionType\": 2, \"questionId\": \"3_ValPreds\", \"learnToolsVersion\": \"0.3.4\", \"valueTowardsCompletion\": 0.0, \"failureMessage\": \"\", \"exceptionClass\": \"\", \"trace\": \"\", \"outcomeType\": 4}}, \"*\")"
      ],
      "text/plain": [
       "<IPython.core.display.Javascript object>"
      ]
     },
     "metadata": {},
     "output_type": "display_data"
    },
    {
     "data": {
      "text/markdown": [
       "<span style=\"color:#33cc99\">Solution:</span> \n",
       "```python\n",
       "val_predictions = iowa_model.predict(val_X)\n",
       "```"
      ],
      "text/plain": [
       "Solution: \n",
       "```python\n",
       "val_predictions = iowa_model.predict(val_X)\n",
       "```"
      ]
     },
     "metadata": {},
     "output_type": "display_data"
    }
   ],
   "source": [
    "step_3.hint()\n",
    "step_3.solution()"
   ]
  },
  {
   "cell_type": "markdown",
   "id": "6b5de465",
   "metadata": {
    "papermill": {
     "duration": 0.008641,
     "end_time": "2024-03-31T03:40:18.502635",
     "exception": false,
     "start_time": "2024-03-31T03:40:18.493994",
     "status": "completed"
    },
    "tags": []
   },
   "source": [
    "Inspect your predictions and actual values from validation data."
   ]
  },
  {
   "cell_type": "code",
   "execution_count": 8,
   "id": "882eb440",
   "metadata": {
    "execution": {
     "iopub.execute_input": "2024-03-31T03:40:18.521342Z",
     "iopub.status.busy": "2024-03-31T03:40:18.520953Z",
     "iopub.status.idle": "2024-03-31T03:40:18.527619Z",
     "shell.execute_reply": "2024-03-31T03:40:18.526280Z"
    },
    "papermill": {
     "duration": 0.019623,
     "end_time": "2024-03-31T03:40:18.530754",
     "exception": false,
     "start_time": "2024-03-31T03:40:18.511131",
     "status": "completed"
    },
    "tags": []
   },
   "outputs": [
    {
     "name": "stdout",
     "output_type": "stream",
     "text": [
      "[186500. 184000. 130000.  92000. 164500. 220000. 335000. 144152. 215000.]\n",
      "[231500, 179500, 122000, 84500, 142000, 325624, 285000, 151000, 195000]\n"
     ]
    }
   ],
   "source": [
    "# print the top few validation predictions\n",
    "print(val_predictions[:9])\n",
    "# print the top few actual prices from validation data\n",
    "print(val_y.tolist()[:9])"
   ]
  },
  {
   "cell_type": "markdown",
   "id": "2cc7f8a0",
   "metadata": {
    "papermill": {
     "duration": 0.008695,
     "end_time": "2024-03-31T03:40:18.549383",
     "exception": false,
     "start_time": "2024-03-31T03:40:18.540688",
     "status": "completed"
    },
    "tags": []
   },
   "source": [
    "What do you notice that is different from what you saw with in-sample predictions (which are printed after the top code cell in this page).\n",
    "\n",
    "Do you remember why validation predictions differ from in-sample (or training) predictions? This is an important idea from the last lesson.\n",
    "\n",
    "## Step 4: Calculate the Mean Absolute Error in Validation Data\n"
   ]
  },
  {
   "cell_type": "code",
   "execution_count": 9,
   "id": "ecd347d8",
   "metadata": {
    "execution": {
     "iopub.execute_input": "2024-03-31T03:40:18.568875Z",
     "iopub.status.busy": "2024-03-31T03:40:18.567888Z",
     "iopub.status.idle": "2024-03-31T03:40:18.579192Z",
     "shell.execute_reply": "2024-03-31T03:40:18.578072Z"
    },
    "papermill": {
     "duration": 0.023665,
     "end_time": "2024-03-31T03:40:18.581719",
     "exception": false,
     "start_time": "2024-03-31T03:40:18.558054",
     "status": "completed"
    },
    "tags": []
   },
   "outputs": [
    {
     "name": "stdout",
     "output_type": "stream",
     "text": [
      "29652.931506849316\n"
     ]
    },
    {
     "data": {
      "application/javascript": [
       "parent.postMessage({\"jupyterEvent\": \"custom.exercise_interaction\", \"data\": {\"outcomeType\": 1, \"valueTowardsCompletion\": 0.25, \"interactionType\": 1, \"questionType\": 1, \"questionId\": \"4_MAE\", \"learnToolsVersion\": \"0.3.4\", \"failureMessage\": \"\", \"exceptionClass\": \"\", \"trace\": \"\"}}, \"*\")"
      ],
      "text/plain": [
       "<IPython.core.display.Javascript object>"
      ]
     },
     "metadata": {},
     "output_type": "display_data"
    },
    {
     "data": {
      "text/markdown": [
       "<span style=\"color:#33cc33\">Correct</span>"
      ],
      "text/plain": [
       "Correct"
      ]
     },
     "metadata": {},
     "output_type": "display_data"
    }
   ],
   "source": [
    "from sklearn.metrics import mean_absolute_error\n",
    "val_mae = mean_absolute_error(val_y, val_predictions)\n",
    "\n",
    "# uncomment following line to see the validation_mae\n",
    "print(val_mae)\n",
    "\n",
    "# Check your answer\n",
    "step_4.check()"
   ]
  },
  {
   "cell_type": "code",
   "execution_count": 10,
   "id": "a740b316",
   "metadata": {
    "execution": {
     "iopub.execute_input": "2024-03-31T03:40:18.601962Z",
     "iopub.status.busy": "2024-03-31T03:40:18.601545Z",
     "iopub.status.idle": "2024-03-31T03:40:18.616625Z",
     "shell.execute_reply": "2024-03-31T03:40:18.615035Z"
    },
    "papermill": {
     "duration": 0.028908,
     "end_time": "2024-03-31T03:40:18.619303",
     "exception": false,
     "start_time": "2024-03-31T03:40:18.590395",
     "status": "completed"
    },
    "tags": []
   },
   "outputs": [
    {
     "data": {
      "application/javascript": [
       "parent.postMessage({\"jupyterEvent\": \"custom.exercise_interaction\", \"data\": {\"interactionType\": 2, \"questionType\": 1, \"questionId\": \"4_MAE\", \"learnToolsVersion\": \"0.3.4\", \"valueTowardsCompletion\": 0.0, \"failureMessage\": \"\", \"exceptionClass\": \"\", \"trace\": \"\", \"outcomeType\": 4}}, \"*\")"
      ],
      "text/plain": [
       "<IPython.core.display.Javascript object>"
      ]
     },
     "metadata": {},
     "output_type": "display_data"
    },
    {
     "data": {
      "text/markdown": [
       "<span style=\"color:#3366cc\">Hint:</span> The order of arguments to mean_absolute_error doesn't matter. Make sure you fit to only the training data in step 2."
      ],
      "text/plain": [
       "Hint: The order of arguments to mean_absolute_error doesn't matter. Make sure you fit to only the training data in step 2."
      ]
     },
     "metadata": {},
     "output_type": "display_data"
    },
    {
     "data": {
      "application/javascript": [
       "parent.postMessage({\"jupyterEvent\": \"custom.exercise_interaction\", \"data\": {\"interactionType\": 3, \"questionType\": 1, \"questionId\": \"4_MAE\", \"learnToolsVersion\": \"0.3.4\", \"valueTowardsCompletion\": 0.0, \"failureMessage\": \"\", \"exceptionClass\": \"\", \"trace\": \"\", \"outcomeType\": 4}}, \"*\")"
      ],
      "text/plain": [
       "<IPython.core.display.Javascript object>"
      ]
     },
     "metadata": {},
     "output_type": "display_data"
    },
    {
     "data": {
      "text/markdown": [
       "<span style=\"color:#33cc99\">Solution:</span> \n",
       "```python\n",
       "val_mae = mean_absolute_error(val_y, val_predictions)\n",
       "```"
      ],
      "text/plain": [
       "Solution: \n",
       "```python\n",
       "val_mae = mean_absolute_error(val_y, val_predictions)\n",
       "```"
      ]
     },
     "metadata": {},
     "output_type": "display_data"
    }
   ],
   "source": [
    "step_4.hint()\n",
    "step_4.solution()"
   ]
  },
  {
   "cell_type": "markdown",
   "id": "1c20bf9f",
   "metadata": {
    "papermill": {
     "duration": 0.009396,
     "end_time": "2024-03-31T03:40:18.638547",
     "exception": false,
     "start_time": "2024-03-31T03:40:18.629151",
     "status": "completed"
    },
    "tags": []
   },
   "source": [
    "Is that MAE good?  There isn't a general rule for what values are good that applies across applications. But you'll see how to use (and improve) this number in the next step.\n",
    "\n",
    "# Keep Going\n",
    "\n",
    "You are ready for **[Underfitting and Overfitting](https://www.kaggle.com/dansbecker/underfitting-and-overfitting).**\n"
   ]
  },
  {
   "cell_type": "markdown",
   "id": "3588b0f5",
   "metadata": {
    "papermill": {
     "duration": 0.010212,
     "end_time": "2024-03-31T03:40:18.658858",
     "exception": false,
     "start_time": "2024-03-31T03:40:18.648646",
     "status": "completed"
    },
    "tags": []
   },
   "source": [
    "---\n",
    "\n",
    "\n",
    "\n",
    "\n",
    "*Have questions or comments? Visit the [course discussion forum](https://www.kaggle.com/learn/intro-to-machine-learning/discussion) to chat with other learners.*"
   ]
  }
 ],
 "metadata": {
  "kaggle": {
   "accelerator": "none",
   "dataSources": [
    {
     "databundleVersionId": 111096,
     "sourceId": 10211,
     "sourceType": "competition"
    },
    {
     "datasetId": 11167,
     "sourceId": 15520,
     "sourceType": "datasetVersion"
    },
    {
     "datasetId": 2709,
     "sourceId": 38454,
     "sourceType": "datasetVersion"
    }
   ],
   "isGpuEnabled": false,
   "isInternetEnabled": false,
   "language": "python",
   "sourceType": "notebook"
  },
  "kernelspec": {
   "display_name": "Python 3",
   "language": "python",
   "name": "python3"
  },
  "language_info": {
   "codemirror_mode": {
    "name": "ipython",
    "version": 3
   },
   "file_extension": ".py",
   "mimetype": "text/x-python",
   "name": "python",
   "nbconvert_exporter": "python",
   "pygments_lexer": "ipython3",
   "version": "3.10.13"
  },
  "papermill": {
   "default_parameters": {},
   "duration": 8.05008,
   "end_time": "2024-03-31T03:40:19.396154",
   "environment_variables": {},
   "exception": null,
   "input_path": "__notebook__.ipynb",
   "output_path": "__notebook__.ipynb",
   "parameters": {},
   "start_time": "2024-03-31T03:40:11.346074",
   "version": "2.5.0"
  }
 },
 "nbformat": 4,
 "nbformat_minor": 5
}
