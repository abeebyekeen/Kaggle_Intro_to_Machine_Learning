{
 "cells": [
  {
   "cell_type": "markdown",
   "id": "6476628c",
   "metadata": {
    "papermill": {
     "duration": 0.005964,
     "end_time": "2024-03-31T03:41:19.501984",
     "exception": false,
     "start_time": "2024-03-31T03:41:19.496020",
     "status": "completed"
    },
    "tags": []
   },
   "source": [
    "**This notebook is an exercise in the [Introduction to Machine Learning](https://www.kaggle.com/learn/intro-to-machine-learning) course.  You can reference the tutorial at [this link](https://www.kaggle.com/dansbecker/underfitting-and-overfitting).**\n",
    "\n",
    "---\n"
   ]
  },
  {
   "cell_type": "markdown",
   "id": "4b21b91c",
   "metadata": {
    "papermill": {
     "duration": 0.004696,
     "end_time": "2024-03-31T03:41:19.512311",
     "exception": false,
     "start_time": "2024-03-31T03:41:19.507615",
     "status": "completed"
    },
    "tags": []
   },
   "source": [
    "## Recap\n",
    "You've built your first model, and now it's time to optimize the size of the tree to make better predictions. Run this cell to set up your coding environment where the previous step left off."
   ]
  },
  {
   "cell_type": "code",
   "execution_count": 1,
   "id": "7a37995b",
   "metadata": {
    "execution": {
     "iopub.execute_input": "2024-03-31T03:41:19.525037Z",
     "iopub.status.busy": "2024-03-31T03:41:19.524174Z",
     "iopub.status.idle": "2024-03-31T03:41:22.409145Z",
     "shell.execute_reply": "2024-03-31T03:41:22.408303Z"
    },
    "papermill": {
     "duration": 2.894869,
     "end_time": "2024-03-31T03:41:22.412354",
     "exception": false,
     "start_time": "2024-03-31T03:41:19.517485",
     "status": "completed"
    },
    "tags": []
   },
   "outputs": [
    {
     "name": "stdout",
     "output_type": "stream",
     "text": [
      "Validation MAE: 29,653\n",
      "\n",
      "Setup complete\n"
     ]
    }
   ],
   "source": [
    "# Code you have previously used to load data\n",
    "import pandas as pd\n",
    "from sklearn.metrics import mean_absolute_error\n",
    "from sklearn.model_selection import train_test_split\n",
    "from sklearn.tree import DecisionTreeRegressor\n",
    "\n",
    "\n",
    "# Path of the file to read\n",
    "iowa_file_path = '../input/home-data-for-ml-course/train.csv'\n",
    "\n",
    "home_data = pd.read_csv(iowa_file_path)\n",
    "# Create target object and call it y\n",
    "y = home_data.SalePrice\n",
    "# Create X\n",
    "features = ['LotArea', 'YearBuilt', '1stFlrSF', '2ndFlrSF', 'FullBath', 'BedroomAbvGr', 'TotRmsAbvGrd']\n",
    "X = home_data[features]\n",
    "\n",
    "# Split into validation and training data\n",
    "train_X, val_X, train_y, val_y = train_test_split(X, y, random_state=1)\n",
    "\n",
    "# Specify Model\n",
    "iowa_model = DecisionTreeRegressor(random_state=1)\n",
    "# Fit Model\n",
    "iowa_model.fit(train_X, train_y)\n",
    "\n",
    "# Make validation predictions and calculate mean absolute error\n",
    "val_predictions = iowa_model.predict(val_X)\n",
    "val_mae = mean_absolute_error(val_predictions, val_y)\n",
    "print(\"Validation MAE: {:,.0f}\".format(val_mae))\n",
    "\n",
    "# Set up code checking\n",
    "from learntools.core import binder\n",
    "binder.bind(globals())\n",
    "from learntools.machine_learning.ex5 import *\n",
    "print(\"\\nSetup complete\")"
   ]
  },
  {
   "cell_type": "markdown",
   "id": "a2bc88aa",
   "metadata": {
    "papermill": {
     "duration": 0.004671,
     "end_time": "2024-03-31T03:41:22.422254",
     "exception": false,
     "start_time": "2024-03-31T03:41:22.417583",
     "status": "completed"
    },
    "tags": []
   },
   "source": [
    "# Exercises\n",
    "You could write the function `get_mae` yourself. For now, we'll supply it. This is the same function you read about in the previous lesson. Just run the cell below."
   ]
  },
  {
   "cell_type": "code",
   "execution_count": 2,
   "id": "164b3be2",
   "metadata": {
    "execution": {
     "iopub.execute_input": "2024-03-31T03:41:22.434141Z",
     "iopub.status.busy": "2024-03-31T03:41:22.433743Z",
     "iopub.status.idle": "2024-03-31T03:41:22.440263Z",
     "shell.execute_reply": "2024-03-31T03:41:22.439165Z"
    },
    "papermill": {
     "duration": 0.015515,
     "end_time": "2024-03-31T03:41:22.442937",
     "exception": false,
     "start_time": "2024-03-31T03:41:22.427422",
     "status": "completed"
    },
    "tags": []
   },
   "outputs": [],
   "source": [
    "def get_mae(max_leaf_nodes, train_X, val_X, train_y, val_y):\n",
    "    model = DecisionTreeRegressor(max_leaf_nodes=max_leaf_nodes, random_state=0)\n",
    "    model.fit(train_X, train_y)\n",
    "    preds_val = model.predict(val_X)\n",
    "    mae = mean_absolute_error(val_y, preds_val)\n",
    "    return(mae)"
   ]
  },
  {
   "cell_type": "markdown",
   "id": "1a1c957c",
   "metadata": {
    "papermill": {
     "duration": 0.005186,
     "end_time": "2024-03-31T03:41:22.453378",
     "exception": false,
     "start_time": "2024-03-31T03:41:22.448192",
     "status": "completed"
    },
    "tags": []
   },
   "source": [
    "## Step 1: Compare Different Tree Sizes\n",
    "Write a loop that tries the following values for *max_leaf_nodes* from a set of possible values.\n",
    "\n",
    "Call the *get_mae* function on each value of max_leaf_nodes. Store the output in some way that allows you to select the value of `max_leaf_nodes` that gives the most accurate model on your data."
   ]
  },
  {
   "cell_type": "code",
   "execution_count": 3,
   "id": "95973666",
   "metadata": {
    "execution": {
     "iopub.execute_input": "2024-03-31T03:41:22.465542Z",
     "iopub.status.busy": "2024-03-31T03:41:22.465047Z",
     "iopub.status.idle": "2024-03-31T03:41:22.523433Z",
     "shell.execute_reply": "2024-03-31T03:41:22.521996Z"
    },
    "papermill": {
     "duration": 0.067459,
     "end_time": "2024-03-31T03:41:22.526047",
     "exception": false,
     "start_time": "2024-03-31T03:41:22.458588",
     "status": "completed"
    },
    "tags": []
   },
   "outputs": [
    {
     "name": "stdout",
     "output_type": "stream",
     "text": [
      "Max leaf nodes: 5  \t\t MAE: 35044\n",
      "Max leaf nodes: 25  \t\t MAE: 29016\n",
      "Max leaf nodes: 50  \t\t MAE: 27405\n",
      "Max leaf nodes: 100  \t\t MAE: 27282\n",
      "Max leaf nodes: 250  \t\t MAE: 27893\n",
      "Max leaf nodes: 500  \t\t MAE: 29454\n",
      "\n",
      "Best leaf node: 100  , and MAE: 27282\n"
     ]
    },
    {
     "data": {
      "application/javascript": [
       "parent.postMessage({\"jupyterEvent\": \"custom.exercise_interaction\", \"data\": {\"outcomeType\": 1, \"valueTowardsCompletion\": 0.5, \"interactionType\": 1, \"questionType\": 1, \"questionId\": \"1_BestTreeSize\", \"learnToolsVersion\": \"0.3.4\", \"failureMessage\": \"\", \"exceptionClass\": \"\", \"trace\": \"\"}}, \"*\")"
      ],
      "text/plain": [
       "<IPython.core.display.Javascript object>"
      ]
     },
     "metadata": {},
     "output_type": "display_data"
    },
    {
     "data": {
      "text/markdown": [
       "<span style=\"color:#33cc33\">Correct</span>"
      ],
      "text/plain": [
       "Correct"
      ]
     },
     "metadata": {},
     "output_type": "display_data"
    }
   ],
   "source": [
    "candidate_max_leaf_nodes = [5, 25, 50, 100, 250, 500]\n",
    "# candidate_max_leaf_nodes = [5, 25, 50, 75, 100, 125, 150, 175, 200, 225, 250, 500]\n",
    "# Write loop to find the ideal tree size from candidate_max_leaf_nodes\n",
    "record = {}\n",
    "for i in candidate_max_leaf_nodes:\n",
    "    mae_current = get_mae(i, train_X, val_X, train_y, val_y)\n",
    "    print(\"Max leaf nodes: %d  \\t\\t MAE: %d\" %(i, mae_current))\n",
    "    record[i] = mae_current\n",
    "        \n",
    "# Store the best value of max_leaf_nodes (it will be either 5, 25, 50, 100, 250 or 500)\n",
    "counter = 0\n",
    "for key, value in record.items():\n",
    "    counter +=1\n",
    "    if counter == 1:\n",
    "        min_node, min_mae = key, value\n",
    "    elif counter > 1:\n",
    "        if min_mae > value:\n",
    "            min_node, min_mae = key, value\n",
    "\n",
    "best_tree_size = min_node\n",
    "print(\"\\nBest leaf node: %d  , and MAE: %d\" %(min_node, min_mae))\n",
    "\n",
    "# Check your answer\n",
    "step_1.check()"
   ]
  },
  {
   "cell_type": "code",
   "execution_count": 4,
   "id": "74a838ef",
   "metadata": {
    "execution": {
     "iopub.execute_input": "2024-03-31T03:41:22.539760Z",
     "iopub.status.busy": "2024-03-31T03:41:22.539295Z",
     "iopub.status.idle": "2024-03-31T03:41:22.544882Z",
     "shell.execute_reply": "2024-03-31T03:41:22.543515Z"
    },
    "papermill": {
     "duration": 0.015654,
     "end_time": "2024-03-31T03:41:22.547463",
     "exception": false,
     "start_time": "2024-03-31T03:41:22.531809",
     "status": "completed"
    },
    "tags": []
   },
   "outputs": [],
   "source": [
    "# The lines below will show you a hint or the solution.\n",
    "# step_1.hint() \n",
    "# step_1.solution()"
   ]
  },
  {
   "cell_type": "markdown",
   "id": "4e90d8c2",
   "metadata": {
    "papermill": {
     "duration": 0.005578,
     "end_time": "2024-03-31T03:41:22.558811",
     "exception": false,
     "start_time": "2024-03-31T03:41:22.553233",
     "status": "completed"
    },
    "tags": []
   },
   "source": [
    "## Step 2: Fit Model Using All Data\n",
    "You know the best tree size. If you were going to deploy this model in practice, you would make it even more accurate by using all of the data and keeping that tree size.  That is, you don't need to hold out the validation data now that you've made all your modeling decisions."
   ]
  },
  {
   "cell_type": "code",
   "execution_count": 5,
   "id": "b77dec4b",
   "metadata": {
    "execution": {
     "iopub.execute_input": "2024-03-31T03:41:22.573155Z",
     "iopub.status.busy": "2024-03-31T03:41:22.572373Z",
     "iopub.status.idle": "2024-03-31T03:41:22.590418Z",
     "shell.execute_reply": "2024-03-31T03:41:22.589595Z"
    },
    "papermill": {
     "duration": 0.028237,
     "end_time": "2024-03-31T03:41:22.592901",
     "exception": false,
     "start_time": "2024-03-31T03:41:22.564664",
     "status": "completed"
    },
    "tags": []
   },
   "outputs": [
    {
     "data": {
      "application/javascript": [
       "parent.postMessage({\"jupyterEvent\": \"custom.exercise_interaction\", \"data\": {\"outcomeType\": 1, \"valueTowardsCompletion\": 0.5, \"interactionType\": 1, \"questionType\": 2, \"questionId\": \"2_FitModelWithAllData\", \"learnToolsVersion\": \"0.3.4\", \"failureMessage\": \"\", \"exceptionClass\": \"\", \"trace\": \"\"}}, \"*\")"
      ],
      "text/plain": [
       "<IPython.core.display.Javascript object>"
      ]
     },
     "metadata": {},
     "output_type": "display_data"
    },
    {
     "data": {
      "text/markdown": [
       "<span style=\"color:#33cc33\">Correct</span>"
      ],
      "text/plain": [
       "Correct"
      ]
     },
     "metadata": {},
     "output_type": "display_data"
    }
   ],
   "source": [
    "# Fill in argument to make optimal size and uncomment\n",
    "final_model = DecisionTreeRegressor(max_leaf_nodes=best_tree_size, random_state=0)\n",
    "\n",
    "# fit the final model and uncomment the next two lines\n",
    "final_model.fit(X, y)\n",
    "\n",
    "# Check your answer\n",
    "step_2.check()"
   ]
  },
  {
   "cell_type": "code",
   "execution_count": 6,
   "id": "7dc83019",
   "metadata": {
    "execution": {
     "iopub.execute_input": "2024-03-31T03:41:22.606873Z",
     "iopub.status.busy": "2024-03-31T03:41:22.605966Z",
     "iopub.status.idle": "2024-03-31T03:41:22.610104Z",
     "shell.execute_reply": "2024-03-31T03:41:22.609250Z"
    },
    "papermill": {
     "duration": 0.013966,
     "end_time": "2024-03-31T03:41:22.612671",
     "exception": false,
     "start_time": "2024-03-31T03:41:22.598705",
     "status": "completed"
    },
    "tags": []
   },
   "outputs": [],
   "source": [
    "# step_2.hint()\n",
    "# step_2.solution()"
   ]
  },
  {
   "cell_type": "markdown",
   "id": "41f69141",
   "metadata": {
    "papermill": {
     "duration": 0.00623,
     "end_time": "2024-03-31T03:41:22.625134",
     "exception": false,
     "start_time": "2024-03-31T03:41:22.618904",
     "status": "completed"
    },
    "tags": []
   },
   "source": [
    "You've tuned this model and improved your results. But we are still using Decision Tree models, which are not very sophisticated by modern machine learning standards. In the next step you will learn to use Random Forests to improve your models even more.\n",
    "\n",
    "# Keep Going\n",
    "\n",
    "You are ready for **[Random Forests](https://www.kaggle.com/dansbecker/random-forests).**\n"
   ]
  },
  {
   "cell_type": "markdown",
   "id": "70bb5678",
   "metadata": {
    "papermill": {
     "duration": 0.005442,
     "end_time": "2024-03-31T03:41:22.637101",
     "exception": false,
     "start_time": "2024-03-31T03:41:22.631659",
     "status": "completed"
    },
    "tags": []
   },
   "source": [
    "---\n",
    "\n",
    "\n",
    "\n",
    "\n",
    "*Have questions or comments? Visit the [course discussion forum](https://www.kaggle.com/learn/intro-to-machine-learning/discussion) to chat with other learners.*"
   ]
  }
 ],
 "metadata": {
  "kaggle": {
   "accelerator": "none",
   "dataSources": [
    {
     "databundleVersionId": 111096,
     "sourceId": 10211,
     "sourceType": "competition"
    },
    {
     "datasetId": 11167,
     "sourceId": 15520,
     "sourceType": "datasetVersion"
    },
    {
     "datasetId": 2709,
     "sourceId": 38454,
     "sourceType": "datasetVersion"
    }
   ],
   "isGpuEnabled": false,
   "isInternetEnabled": false,
   "language": "python",
   "sourceType": "notebook"
  },
  "kernelspec": {
   "display_name": "Python 3",
   "language": "python",
   "name": "python3"
  },
  "language_info": {
   "codemirror_mode": {
    "name": "ipython",
    "version": 3
   },
   "file_extension": ".py",
   "mimetype": "text/x-python",
   "name": "python",
   "nbconvert_exporter": "python",
   "pygments_lexer": "ipython3",
   "version": "3.10.13"
  },
  "papermill": {
   "default_parameters": {},
   "duration": 7.166319,
   "end_time": "2024-03-31T03:41:23.566059",
   "environment_variables": {},
   "exception": null,
   "input_path": "__notebook__.ipynb",
   "output_path": "__notebook__.ipynb",
   "parameters": {},
   "start_time": "2024-03-31T03:41:16.399740",
   "version": "2.5.0"
  }
 },
 "nbformat": 4,
 "nbformat_minor": 5
}
